{
 "cells": [
  {
   "cell_type": "markdown",
   "metadata": {},
   "source": [
    "# Contents\n",
    "\n",
    "- [22 October 2018](#22-october-2018)\n",
    "    - [Namespace and Variable Scope]()\n",
    "- [24 October 2018](#24-october-2018) \n",
    "    - [Lists and Tuples, cont'd: Tuples](#Lists-and-Tuples,-cont'd:-Tuples)\n",
    "        - [Using tuples for exchanges](#Using-tuples-for-exchanges:)\n",
    "    - [Some useful list functions](#Some-useful-list-functions)\n",
    "        - [List comprehension](#List-comprehension)\n",
    "    - [String Parsing](#String-Parsing)\n",
    "        - [Some useful string functions](#Some-useful-string-functions)\n",
    "        - [Regular expressions](#Regular-expressions:)\n",
    "        - [Search and replace](#Search-and-replace:-`re.sub`)\n",
    "        - [Split according to a regular expression](#Split-according-to-a-regular-expression)\n",
    "\n",
    "-----\n",
    "-----"
   ]
  },
  {
   "cell_type": "code",
   "execution_count": 82,
   "metadata": {},
   "outputs": [],
   "source": [
    "import os\n",
    "os.getcwd()\n",
    "#os.chdir(os.getcwd() + \"/data\")\n",
    "os.chdir(\"/Users/Alexa/Desktop/swc-python/data\")"
   ]
  },
  {
   "cell_type": "markdown",
   "metadata": {},
   "source": [
    "-----\n",
    "\n",
    "\n",
    "# 22 October 2018\n",
    "\n",
    "## Namespace and Variable Scope\n",
    "\n",
    "Within a session, say I set `a = 5`. The variable `a` is now part of my session's namespace.\n",
    "Mutable values are those that refer to something outside the namespace; immutable ones refer\n",
    "to something inside it.\n",
    "\n",
    "Functions have separate namespaces:"
   ]
  },
  {
   "cell_type": "code",
   "execution_count": 3,
   "metadata": {},
   "outputs": [
    {
     "name": "stdout",
     "output_type": "stream",
     "text": [
      "5\n",
      "after add1_scalar:  6\n",
      "and yet, a = 5 still\n",
      "[5, 4, 3]\n",
      "lists are mutable, so now b = [5, 4, 3]\n"
     ]
    }
   ],
   "source": [
    "def add1scalar(x):\n",
    "\t\"\"\"adds 1 to scalar input\"\"\"\n",
    "\tx += 1\n",
    "\tprint(\"after add1_scalar: \", x)\n",
    "\n",
    "def add1array(x):\n",
    "\t\"\"\"adds 1 to each element of an array\"\"\"\n",
    "\tfor el in x:\n",
    "\t\tel += 1\n",
    "\n",
    "a = 5; print(a)\n",
    "add1scalar(a)\n",
    "print(\"and yet, a = %s still\" % a)\n",
    "b = [5, 4, 3]; print(b)\n",
    "add1array(b)\n",
    "print(\"lists are mutable, so now b = %s\" % b)"
   ]
  },
  {
   "cell_type": "markdown",
   "metadata": {},
   "source": [
    "In the example above, my session's namespace contains `a` and `b`. The function `add1_scalar()` has a namespace containing *its own* `a`, so running the function doesn't affect my session's `a` unless I specify that it should (by setting `a = add1scalar(a)`).\n",
    "\n",
    "This only works because integers/floats are immutable, though: the variable is pointing to a value held entirely within a namespace. Mutable data like lists are stored outside namespaces, with any namespace's variable being just a pointer to the outside data. Thus, if a function modifies a list variable, it's modifying the underlying data -- the variable's value will be changed across all namespaces.\n",
    "\n",
    "The scope of a `for` loop, however, is nested within the local session's namespace: variables defined or redefined during the loop will retain their last value after we exit the finished loop.\n",
    "\n",
    "----"
   ]
  },
  {
   "cell_type": "markdown",
   "metadata": {},
   "source": [
    "# 24 October 2018\n",
    "\n",
    "## Lists and Tuples, cont'd: Tuples\n",
    "\n",
    "Tuples are immutable, unlike lists. useful for:\n",
    "\n",
    "- array sizes: `(60,40)` earlier\n",
    "- types of arguments to functions: like (float, int) for instance\n",
    "- functions can return multiple objects in a tuple\n",
    "\n",
    "A tuple with a single value, say 6.5, is noted like this: `(6.5,)` .\n",
    "\n",
    "### Using tuples for exchanges:"
   ]
  },
  {
   "cell_type": "code",
   "execution_count": 5,
   "metadata": {},
   "outputs": [
    {
     "name": "stdout",
     "output_type": "stream",
     "text": [
      "left = R and right = L\n"
     ]
    }
   ],
   "source": [
    "left = 'L'\n",
    "right = 'R'\n",
    "\n",
    "temp = left\n",
    "left = right\n",
    "right = temp\n",
    "print(\"left =\",left,\"and right =\",right)"
   ]
  },
  {
   "cell_type": "code",
   "execution_count": 6,
   "metadata": {
    "scrolled": true
   },
   "outputs": [
    {
     "name": "stdout",
     "output_type": "stream",
     "text": [
      "left = R and right = L\n"
     ]
    }
   ],
   "source": [
    "left = 'L'\n",
    "right = 'R'\n",
    "\n",
    "(left, right) = (right, left)\n",
    "print(\"left =\",left,\"and right =\",right)"
   ]
  },
  {
   "cell_type": "code",
   "execution_count": 7,
   "metadata": {},
   "outputs": [
    {
     "name": "stdout",
     "output_type": "stream",
     "text": [
      "now left = L and right = R\n"
     ]
    }
   ],
   "source": [
    "left, right = right, left\n",
    "print(\"now left =\",left,\"and right =\",right)"
   ]
  },
  {
   "cell_type": "markdown",
   "metadata": {},
   "source": [
    "## Some useful list functions\n",
    "\n",
    "- `.append(x)`: Adds a single value `x` to a list as the new last element.\n",
    "- `.extend([x])`: Appends all the elements from a second list `[x]` onto the first list, \n",
    "  in order.\n",
    "- `.insert(i, x)`: Adds a value `x` to a list in position `i`.\n",
    "- `.reverse()`: Flips the order of elements in a list.\n",
    "- `.pop()`: Removes the last element from a list, then returns it.\n",
    "    - `x = list.pop()`: Removes the last element from `list`, but saves it as `x`.\n",
    "- `sort()`: \n",
    "- `sorted()`: "
   ]
  },
  {
   "cell_type": "code",
   "execution_count": 8,
   "metadata": {},
   "outputs": [
    {
     "name": "stdout",
     "output_type": "stream",
     "text": [
      "odds before: [1, 3, 5, 7]\n",
      "odds after adding a value: [1, 3, 5, 7, 11]\n"
     ]
    }
   ],
   "source": [
    "odds = [1, 3, 5, 7]\n",
    "print('odds before:', odds)\n",
    "odds.append(11)\n",
    "print('odds after adding a value:', odds)"
   ]
  },
  {
   "cell_type": "markdown",
   "metadata": {},
   "source": [
    "Note that the following does not do what an R user will expect:"
   ]
  },
  {
   "cell_type": "code",
   "execution_count": 10,
   "metadata": {},
   "outputs": [
    {
     "name": "stdout",
     "output_type": "stream",
     "text": [
      "odds= [[1, 3, 5, 7], 11]\n"
     ]
    }
   ],
   "source": [
    "odds = [1, 3, 5, 7]\n",
    "odds = [odds, 11]\n",
    "print('odds=',odds)"
   ]
  },
  {
   "cell_type": "code",
   "execution_count": 12,
   "metadata": {},
   "outputs": [
    {
     "name": "stdout",
     "output_type": "stream",
     "text": [
      "odds after removing the first element: [3, 5, 7, 11]\n",
      "odds after reversing: [11, 7, 5, 3]\n",
      "odds after popping last element: [11, 7, 5]\n",
      "this last element was 3\n",
      "popped element number 1 (2nd element): 7\n",
      "[11, 5]\n"
     ]
    }
   ],
   "source": [
    "odds = [1, 3, 5, 7, 11]\n",
    "del odds[0]\n",
    "print('odds after removing the first element:', odds)\n",
    "odds.reverse()\n",
    "print('odds after reversing:', odds)\n",
    "a = odds.pop()\n",
    "print('odds after popping last element:', odds)\n",
    "print(\"this last element was\",a)\n",
    "a = odds.pop(1)\n",
    "print(\"popped element number 1 (2nd element):\",a)\n",
    "odds"
   ]
  },
  {
   "cell_type": "markdown",
   "metadata": {},
   "source": [
    "What `+` and `*` do to lists (not all that intuitive), keeping in mind that lists are mutable:"
   ]
  },
  {
   "cell_type": "code",
   "execution_count": 13,
   "metadata": {},
   "outputs": [
    {
     "name": "stdout",
     "output_type": "stream",
     "text": [
      "primes: [1, 3, 5, 7, 2]\n",
      "odds: [1, 3, 5, 7, 2]\n"
     ]
    }
   ],
   "source": [
    "odds = [1, 3, 5, 7]\n",
    "primes = odds\n",
    "primes += [2]\n",
    "print('primes:', primes)\n",
    "print('odds:', odds)"
   ]
  },
  {
   "cell_type": "code",
   "execution_count": 23,
   "metadata": {},
   "outputs": [
    {
     "name": "stdout",
     "output_type": "stream",
     "text": [
      "The list with repeats, sorted numerically: [2, 2, 4, 4, 6, 6, 8, 8, 10, 10]\n",
      "The list with repeats, unsorted: [2, 4, 6, 8, 10, 2, 4, 6, 8, 10]\n",
      ".sort modifies the list in place: [2, 2, 4, 4, 6, 6, 8, 8, 10, 10]\n",
      "[2, 4, 5.5, 10, 27.1, 30]\n",
      "['dec', 'feb', 'jan', 'mar']\n"
     ]
    },
    {
     "ename": "TypeError",
     "evalue": "'<' not supported between instances of 'int' and 'str'",
     "output_type": "error",
     "traceback": [
      "\u001b[0;31m---------------------------------------------------------------------------\u001b[0m",
      "\u001b[0;31mTypeError\u001b[0m                                 Traceback (most recent call last)",
      "\u001b[0;32m<ipython-input-23-dd2c47e4e2ee>\u001b[0m in \u001b[0;36m<module>\u001b[0;34m()\u001b[0m\n\u001b[1;32m      7\u001b[0m \u001b[0mprint\u001b[0m\u001b[0;34m(\u001b[0m\u001b[0msorted\u001b[0m\u001b[0;34m(\u001b[0m\u001b[0;34m[\u001b[0m\u001b[0;36m10\u001b[0m\u001b[0;34m,\u001b[0m\u001b[0;36m5.5\u001b[0m\u001b[0;34m,\u001b[0m\u001b[0;36m2\u001b[0m\u001b[0;34m,\u001b[0m\u001b[0;36m4\u001b[0m\u001b[0;34m,\u001b[0m\u001b[0;36m30\u001b[0m\u001b[0;34m,\u001b[0m\u001b[0;36m27.1\u001b[0m\u001b[0;34m]\u001b[0m\u001b[0;34m)\u001b[0m\u001b[0;34m)\u001b[0m \u001b[0;31m# sorted() treats ints and floats the same.\u001b[0m\u001b[0;34m\u001b[0m\u001b[0m\n\u001b[1;32m      8\u001b[0m \u001b[0mprint\u001b[0m\u001b[0;34m(\u001b[0m\u001b[0msorted\u001b[0m\u001b[0;34m(\u001b[0m\u001b[0;34m[\u001b[0m\u001b[0;34m\"jan\"\u001b[0m\u001b[0;34m,\u001b[0m\u001b[0;34m\"feb\"\u001b[0m\u001b[0;34m,\u001b[0m\u001b[0;34m\"mar\"\u001b[0m\u001b[0;34m,\u001b[0m\u001b[0;34m\"dec\"\u001b[0m\u001b[0;34m]\u001b[0m\u001b[0;34m)\u001b[0m\u001b[0;34m)\u001b[0m  \u001b[0;31m# It sorts strings alphabetically.\u001b[0m\u001b[0;34m\u001b[0m\u001b[0m\n\u001b[0;32m----> 9\u001b[0;31m \u001b[0mprint\u001b[0m\u001b[0;34m(\u001b[0m\u001b[0msorted\u001b[0m\u001b[0;34m(\u001b[0m\u001b[0;34m[\u001b[0m\u001b[0;34m\"jan\"\u001b[0m\u001b[0;34m,\u001b[0m\u001b[0;36m20\u001b[0m\u001b[0;34m,\u001b[0m\u001b[0;36m1\u001b[0m\u001b[0;34m,\u001b[0m\u001b[0;34m\"dec\"\u001b[0m\u001b[0;34m]\u001b[0m\u001b[0;34m)\u001b[0m\u001b[0;34m)\u001b[0m  \u001b[0;31m# But it can't handle mixed numbers & strings -- this\u001b[0m\u001b[0;34m\u001b[0m\u001b[0m\n\u001b[0m\u001b[1;32m     10\u001b[0m                                    \u001b[0;31m# line throws an error.\u001b[0m\u001b[0;34m\u001b[0m\u001b[0;34m\u001b[0m\u001b[0m\n",
      "\u001b[0;31mTypeError\u001b[0m: '<' not supported between instances of 'int' and 'str'"
     ]
    }
   ],
   "source": [
    "counts = [2, 4, 6, 8, 10]\n",
    "repeats = counts * 2\n",
    "print(\"The list with repeats, sorted numerically:\", sorted(repeats))    # all integers\n",
    "print(\"The list with repeats, unsorted:\", repeats) # sorted() leaves original lists unchanged\n",
    "repeats.sort() # .sort modifies the list in place\n",
    "print(repeats)\n",
    "print(sorted([10,5.5,2,4,30,27.1])) # sorted() treats ints and floats the same.\n",
    "print(sorted([\"jan\",\"feb\",\"mar\",\"dec\"]))  # It sorts strings alphabetically.\n",
    "print(sorted([\"jan\",20,1,\"dec\"]))  # But it can't handle mixed numbers & strings -- this \n",
    "                                   # line throws an error."
   ]
  },
  {
   "cell_type": "markdown",
   "metadata": {},
   "source": [
    "### List comprehension\n",
    "\n",
    "`[xxx for y in z]` where `z` is a collection, `y` introduces a local variable name, and `xxx` is some simple function of `y` (typically):"
   ]
  },
  {
   "cell_type": "code",
   "execution_count": 84,
   "metadata": {},
   "outputs": [
    {
     "name": "stdout",
     "output_type": "stream",
     "text": [
      "[7, 9, 11, 13, 15]\n"
     ]
    }
   ],
   "source": [
    "counts = [2, 4, 6, 8, 10]\n",
    "# counts + 5 # error\n",
    "added = [num+5 for num in counts] # new object, a bit like a for loop in a list\n",
    "print(added)"
   ]
  },
  {
   "cell_type": "code",
   "execution_count": 31,
   "metadata": {},
   "outputs": [
    {
     "data": {
      "text/plain": [
       "[7, 9, 11, 13, 15]"
      ]
     },
     "execution_count": 31,
     "metadata": {},
     "output_type": "execute_result"
    }
   ],
   "source": [
    "for i in range(0,len(counts)):\n",
    "    counts[i] += 5 # modifies \"counts\" in place\n",
    "counts"
   ]
  },
  {
   "cell_type": "markdown",
   "metadata": {},
   "source": [
    "## String Parsing\n",
    "\n",
    "### Some useful string functions:\n",
    "\n",
    "See also __`dir(\"\")`__\n",
    "\n",
    "- `.strip`: \n",
    "- `.split`: \n",
    "- `.join`: \n",
    "- `.replace`: \n",
    "- `.index`: \n",
    "- `.find`: \n",
    "- `.count`: \n",
    "- `startswith`: \n",
    "- `.endswith`: \n",
    "- `.upper`: \n",
    "- `.lower`:"
   ]
  },
  {
   "cell_type": "code",
   "execution_count": 35,
   "metadata": {},
   "outputs": [
    {
     "name": "stdout",
     "output_type": "stream",
     "text": [
      "True\n",
      "True\n",
      "True\n",
      "False\n",
      "True\n"
     ]
    }
   ],
   "source": [
    "a = \"hello world\"\n",
    "print(a.startswith(\"h\"))\n",
    "print(a.startswith(\"he\"))\n",
    "print(\"h\" in a)\n",
    "print(\"low\" in a)\n",
    "print(\"lo w\" in a)"
   ]
  },
  {
   "cell_type": "code",
   "execution_count": 38,
   "metadata": {},
   "outputs": [
    {
     "name": "stdout",
     "output_type": "stream",
     "text": [
      "0\n",
      "1\n"
     ]
    },
    {
     "data": {
      "text/plain": [
       "'AA-coolseparator-BB-coolseparator-CC'"
      ]
     },
     "execution_count": 38,
     "metadata": {},
     "output_type": "execute_result"
    }
   ],
   "source": [
    "print(\"aha\".find(\"a\")) # it shows up at index 0\n",
    "print(\"hohoho\".find(\"oh\"))\n",
    "mylist = [\"AA\",\"BB\",\"CC\"]\n",
    "\"-coolseparator-\".join(mylist)"
   ]
  },
  {
   "cell_type": "code",
   "execution_count": 39,
   "metadata": {},
   "outputs": [
    {
     "name": "stdout",
     "output_type": "stream",
     "text": [
      "<class 'str'>\n",
      "['__add__', '__class__', '__contains__', '__delattr__', '__dir__', '__doc__', '__eq__', '__format__', '__ge__', '__getattribute__', '__getitem__', '__getnewargs__', '__gt__', '__hash__', '__init__', '__init_subclass__', '__iter__', '__le__', '__len__', '__lt__', '__mod__', '__mul__', '__ne__', '__new__', '__reduce__', '__reduce_ex__', '__repr__', '__rmod__', '__rmul__', '__setattr__', '__sizeof__', '__str__', '__subclasshook__', 'capitalize', 'casefold', 'center', 'count', 'encode', 'endswith', 'expandtabs', 'find', 'format', 'format_map', 'index', 'isalnum', 'isalpha', 'isascii', 'isdecimal', 'isdigit', 'isidentifier', 'islower', 'isnumeric', 'isprintable', 'isspace', 'istitle', 'isupper', 'join', 'ljust', 'lower', 'lstrip', 'maketrans', 'partition', 'replace', 'rfind', 'rindex', 'rjust', 'rpartition', 'rsplit', 'rstrip', 'split', 'splitlines', 'startswith', 'strip', 'swapcase', 'title', 'translate', 'upper', 'zfill']\n"
     ]
    }
   ],
   "source": [
    "print(type(\"\"))\n",
    "print(dir(\"\"))"
   ]
  },
  {
   "cell_type": "markdown",
   "metadata": {},
   "source": [
    "### Regular expressions:\n",
    "\n",
    "Use the `re` library and its functions `re.search`, `re.findall`, `re.sub`, `re.split`, etc.\n",
    "(Recall regular expression syntax.)\n",
    "\n",
    "- `r''` to write the regular expression pattern, for “raw” strings: to read a `\\n` as slash and an n, not as a newline character.\n",
    "- multipliers are greedy by default: `*`, `+`, `?`. Add `?` to make them non-greedy\n",
    "- info from match objects: `.group`, `.start`, `.end`\n",
    "- when pattern not found, match object is `None`, or `False` when converted to a boolean"
   ]
  },
  {
   "cell_type": "code",
   "execution_count": 67,
   "metadata": {},
   "outputs": [
    {
     "name": "stdout",
     "output_type": "stream",
     "text": [
      "['inflammation-01.csv', 'inflammation-02.csv', 'inflammation-03.csv', 'inflammation-04.csv', 'inflammation-05.csv', 'inflammation-06.csv', 'inflammation-07.csv', 'inflammation-08.csv', 'inflammation-09.csv', 'inflammation-10.csv', 'inflammation-11.csv', 'inflammation-12.csv', 'small-01.csv', 'small-02.csv', 'small-03.csv']\n"
     ]
    }
   ],
   "source": [
    "import glob\n",
    "filenames = glob.glob('*.csv')\n",
    "print(filenames)"
   ]
  },
  {
   "cell_type": "code",
   "execution_count": 57,
   "metadata": {},
   "outputs": [
    {
     "name": "stdout",
     "output_type": "stream",
     "text": [
      "<re.Match object; span=(0, 12), match='inflammation'>\n"
     ]
    }
   ],
   "source": [
    "import re\n",
    "mo = re.search(r'i.*n',filenames[0]) # multiplier * is greedy. This looks for an \"i, then any \n",
    "    # number of characters, then an \"n\" -- and it'll take the last possible \"n\"\n",
    "print(mo)  # \"match object\", stores much info. search: first instance only."
   ]
  },
  {
   "cell_type": "code",
   "execution_count": 58,
   "metadata": {},
   "outputs": [
    {
     "name": "stdout",
     "output_type": "stream",
     "text": [
      "inflammation\n",
      "0\n",
      "12\n"
     ]
    }
   ],
   "source": [
    "print(mo.group()) # what string matched the pattern\n",
    "print(mo.start()) # the position where the match starts (zero-indexed)\n",
    "print(mo.end())   # where the match ends: index *after* that number!"
   ]
  },
  {
   "cell_type": "code",
   "execution_count": 59,
   "metadata": {},
   "outputs": [
    {
     "name": "stdout",
     "output_type": "stream",
     "text": [
      "<re.Match object; span=(0, 2), match='in'>\n",
      "in\n",
      "0\n",
      "2\n"
     ]
    }
   ],
   "source": [
    "mo = re.search(r'i.*?n',filenames[0]) # This is non-greedy matching -- it takes the first \"n\"\n",
    "print(mo)\n",
    "print(mo.group())\n",
    "print(mo.start())\n",
    "print(mo.end())"
   ]
  },
  {
   "cell_type": "markdown",
   "metadata": {},
   "source": [
    "When there is no match, the matched object is `None` and interpreted as `False` in boolean context. Say I have a set of DNA sequences and I want to check whether they have any non-DNA symbols:"
   ]
  },
  {
   "cell_type": "code",
   "execution_count": 60,
   "metadata": {},
   "outputs": [
    {
     "name": "stdout",
     "output_type": "stream",
     "text": [
      "non-ACGT found in sequence ACGGCCAGUGUACN : found U\n"
     ]
    }
   ],
   "source": [
    "sequences = [\"ATCGGGGATCGAAGTTGAG\", \"ACGGCCAGUGUACN\"]\n",
    "for dna in sequences:\n",
    "    mo = re.search(r'[^ATCG]', dna) # find the first non-ACTG, then stop\n",
    "    if mo: # this works because no result = None = False\n",
    "        print(\"non-ACGT found in sequence\",dna,\": found\", mo.group())"
   ]
  },
  {
   "cell_type": "markdown",
   "metadata": {},
   "source": [
    "Compare with this less-efficient code, which has to run the search twice. That can get **slow** with large datasets."
   ]
  },
  {
   "cell_type": "code",
   "execution_count": 61,
   "metadata": {},
   "outputs": [
    {
     "name": "stdout",
     "output_type": "stream",
     "text": [
      "non-ACGT found in sequence ACGGCCAGUGUACN : found U\n"
     ]
    }
   ],
   "source": [
    "for dna in sequences:\n",
    "    if re.search(r'[^ATCG]', dna):\n",
    "        mo = re.search(r'[^ATCG]', dna)\n",
    "        print(\"non-ACGT found in sequence\",dna,\": found\", mo.group())"
   ]
  },
  {
   "cell_type": "code",
   "execution_count": 62,
   "metadata": {},
   "outputs": [
    {
     "name": "stdout",
     "output_type": "stream",
     "text": [
      "['inflammation']\n",
      "['in', 'ion']\n"
     ]
    },
    {
     "data": {
      "text/plain": [
       "['in', 'ion']"
      ]
     },
     "execution_count": 62,
     "metadata": {},
     "output_type": "execute_result"
    }
   ],
   "source": [
    "print(re.findall(r'i.*n',filenames[0])) # greedy. non-overlapping matches, but won't find all of them (b/c greedy).\n",
    "mo = re.findall(r'i.*?n',filenames[0])  # non-greedy. Still not finding all possible matches.\n",
    "print(mo)\n",
    "mo"
   ]
  },
  {
   "cell_type": "code",
   "execution_count": 63,
   "metadata": {},
   "outputs": [
    {
     "name": "stdout",
     "output_type": "stream",
     "text": [
      "file name small-01.csv does not start with i\n",
      "file name small-02.csv does not start with i\n",
      "file name small-03.csv does not start with i\n"
     ]
    }
   ],
   "source": [
    "for f in filenames:\n",
    "    if not re.search(r'^i', f): # if no match: search object interpreted as False\n",
    "        print(\"file name\",f,\"does not start with i\")"
   ]
  },
  {
   "cell_type": "markdown",
   "metadata": {},
   "source": [
    "The big difference with `search` is that it returns an array, instead of just 1 object.\n",
    "\n",
    "### Search and replace: `re.sub`\n",
    "\n",
    "- Capture groups with parentheses in the regular expression\n",
    "- Captured elements are stored as `.group(1)`, `.group(2)` etc. in the match object\n",
    "- You can recall captured elements with `\\1`, `\\2` etc. in a regular expression, to use them in a replacement for example\n",
    "\n",
    "(It's very much like `sed`.)"
   ]
  },
  {
   "cell_type": "code",
   "execution_count": 68,
   "metadata": {},
   "outputs": [
    {
     "data": {
      "text/plain": [
       "'i01.csv'"
      ]
     },
     "execution_count": 68,
     "metadata": {},
     "output_type": "execute_result"
    }
   ],
   "source": [
    "filenames = glob.glob('*.csv')\n",
    "re.sub(r'^(\\w)\\w+-(\\d+)\\.csv', r'\\1\\2.csv', filenames[0])"
   ]
  },
  {
   "cell_type": "code",
   "execution_count": 69,
   "metadata": {},
   "outputs": [
    {
     "name": "stdout",
     "output_type": "stream",
     "text": [
      "['i01.csv', 'i02.csv', 'i03.csv', 'i04.csv', 'i05.csv', 'i06.csv', 'i07.csv', 'i08.csv', 'i09.csv', 'i10.csv', 'i11.csv', 'i12.csv', 's01.csv', 's02.csv', 's03.csv']\n"
     ]
    }
   ],
   "source": [
    "for i in range(0,len(filenames)):\n",
    "    filenames[i] = re.sub(r'^(\\w)\\w+-(\\d+)\\.csv', r'\\1\\2.csv', filenames[i])\n",
    "print(filenames)"
   ]
  },
  {
   "cell_type": "code",
   "execution_count": 70,
   "metadata": {},
   "outputs": [],
   "source": [
    "filenames = glob.glob('*.csv')"
   ]
  },
  {
   "cell_type": "code",
   "execution_count": 71,
   "metadata": {},
   "outputs": [
    {
     "name": "stdout",
     "output_type": "stream",
     "text": [
      "genus=Drosophila, species=melanogaster\n",
      "genus=Homo, species=sapiens\n",
      "Homo sapiens\n",
      "<re.Match object; span=(0, 12), match='Homo sapiens'>\n",
      "0\n",
      "5\n"
     ]
    }
   ],
   "source": [
    "# Can do this by hand, but it'd be nice to do it automatically on many species names...\n",
    "\n",
    "taxa = [\"Drosophila melanogaster\", \"Homo sapiens\"]\n",
    "for taxon in taxa:\n",
    "    mo = re.search(r'^([^\\s]+) ([^\\s]+)$', taxon) # Get everything before a space as \\1, the next word as \\2, and then the end.\n",
    "    if mo:\n",
    "        genus = mo.group(1)\n",
    "        species = mo.group(2)\n",
    "        print(\"genus=\" + genus + \", species=\" + species)\n",
    "\n",
    "print(taxon)\n",
    "print(mo) # variables defined inside \"for\" are available outside\n",
    "print(mo.start(1))\n",
    "print(mo.start(2))\n"
   ]
  },
  {
   "cell_type": "code",
   "execution_count": 76,
   "metadata": {},
   "outputs": [
    {
     "name": "stdout",
     "output_type": "stream",
     "text": [
      "['D_melanogaster', 'H_sapiens']\n"
     ]
    }
   ],
   "source": [
    "# Now abbreviate the taxon name to its first letter and replace space with underscore:\n",
    "\n",
    "taxa_abbrev = []\n",
    "for taxon in taxa:\n",
    "    taxa_abbrev.append(\n",
    "        re.sub(r'^(\\S).* ([^\\s]+)$', r'\\1_\\2', taxon)\n",
    "    )\n",
    "print(taxa_abbrev)"
   ]
  },
  {
   "cell_type": "markdown",
   "metadata": {},
   "source": [
    "### Split according to a regular expression\n",
    "\n",
    "- removes the matched substrings\n",
    "- returns an array"
   ]
  },
  {
   "cell_type": "code",
   "execution_count": 78,
   "metadata": {},
   "outputs": [
    {
     "data": {
      "text/plain": [
       "['Homo ', 'ien', 'retty ', 'er']"
      ]
     },
     "execution_count": 78,
     "metadata": {},
     "output_type": "execute_result"
    }
   ],
   "source": [
    "coolstring = \"Homo sapiens is pretty super\"\n",
    "re.split(r's.p', coolstring)\n",
    "re.split(r's.*p', coolstring)\n",
    "re.split(r's.*?p', coolstring)"
   ]
  },
  {
   "cell_type": "code",
   "execution_count": null,
   "metadata": {},
   "outputs": [],
   "source": []
  }
 ],
 "metadata": {
  "kernelspec": {
   "display_name": "Python 3",
   "language": "python",
   "name": "python3"
  },
  "language_info": {
   "codemirror_mode": {
    "name": "ipython",
    "version": 3
   },
   "file_extension": ".py",
   "mimetype": "text/x-python",
   "name": "python",
   "nbconvert_exporter": "python",
   "pygments_lexer": "ipython3",
   "version": "3.7.0"
  }
 },
 "nbformat": 4,
 "nbformat_minor": 2
}
