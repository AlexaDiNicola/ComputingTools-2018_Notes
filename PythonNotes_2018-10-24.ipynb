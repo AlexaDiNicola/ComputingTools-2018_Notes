{
 "cells": [
  {
   "cell_type": "code",
   "execution_count": 14,
   "metadata": {},
   "outputs": [],
   "source": [
    "import os\n",
    "os.getcwd()\n",
    "#os.chdir(os.getcwd() + \"/data\")\n",
    "os.chdir(\"/Users/Alexa/Desktop/swc-python/data\")"
   ]
  },
  {
   "cell_type": "markdown",
   "metadata": {},
   "source": [
    "# Course notes, \n",
    "\n",
    "---\n",
    "[previous](notes1025.html) &\n",
    "[next](notes1101.html)\n",
    "\n",
    "---\n",
    "\n",
    "<!--\n",
    "content was previously in ipython notebook #2:\n",
    "[download](../assets/python/swcarpentry2.ipynb)\n",
    "-->\n",
    "\n",
    "## simple patterns and tools\n",
    "\n",
    "useful functions on **strings** for simple things:\n",
    " `.strip`, `.split`, `.join`, `.replace`, `.index`, `.find`, `.count`,\n",
    " `startswith`, `.endswith`, `.upper`, `.lower`,"
   ]
  },
  {
   "cell_type": "code",
   "execution_count": 1,
   "metadata": {},
   "outputs": [
    {
     "name": "stdout",
     "output_type": "stream",
     "text": [
      "True\n",
      "True\n",
      "True\n",
      "False\n",
      "True\n"
     ]
    }
   ],
   "source": [
    "a = \"hello world\"\n",
    "print(a.startswith(\"h\"))\n",
    "print(a.startswith(\"he\"))\n",
    "print(\"h\" in a)\n",
    "print(\"low\" in a)\n",
    "print(\"lo w\" in a)"
   ]
  },
  {
   "cell_type": "code",
   "execution_count": 2,
   "metadata": {},
   "outputs": [
    {
     "name": "stdout",
     "output_type": "stream",
     "text": [
      "0\n",
      "1\n"
     ]
    },
    {
     "data": {
      "text/plain": [
       "'AAcoolsepBBcoolsepCC'"
      ]
     },
     "execution_count": 2,
     "metadata": {},
     "output_type": "execute_result"
    }
   ],
   "source": [
    "print(\"aha\".find(\"a\"))\n",
    "print(\"hohoho\".find(\"oh\"))\n",
    "mylist = [\"AA\",\"BB\",\"CC\"]\n",
    "\"coolsep\".join(mylist)"
   ]
  },
  {
   "cell_type": "markdown",
   "metadata": {},
   "source": [
    "and see `dir(\"\")` for string methods (because `\"\"` is a string)."
   ]
  },
  {
   "cell_type": "code",
   "execution_count": 4,
   "metadata": {},
   "outputs": [
    {
     "name": "stdout",
     "output_type": "stream",
     "text": [
      "<class 'str'>\n",
      "['__add__', '__class__', '__contains__', '__delattr__', '__dir__', '__doc__', '__eq__', '__format__', '__ge__', '__getattribute__', '__getitem__', '__getnewargs__', '__gt__', '__hash__', '__init__', '__init_subclass__', '__iter__', '__le__', '__len__', '__lt__', '__mod__', '__mul__', '__ne__', '__new__', '__reduce__', '__reduce_ex__', '__repr__', '__rmod__', '__rmul__', '__setattr__', '__sizeof__', '__str__', '__subclasshook__', 'capitalize', 'casefold', 'center', 'count', 'encode', 'endswith', 'expandtabs', 'find', 'format', 'format_map', 'index', 'isalnum', 'isalpha', 'isascii', 'isdecimal', 'isdigit', 'isidentifier', 'islower', 'isnumeric', 'isprintable', 'isspace', 'istitle', 'isupper', 'join', 'ljust', 'lower', 'lstrip', 'maketrans', 'partition', 'replace', 'rfind', 'rindex', 'rjust', 'rpartition', 'rsplit', 'rstrip', 'split', 'splitlines', 'startswith', 'strip', 'swapcase', 'title', 'translate', 'upper', 'zfill']\n"
     ]
    }
   ],
   "source": [
    "print(type(\"\"))\n",
    "print(dir(\"\"))"
   ]
  },
  {
   "cell_type": "markdown",
   "metadata": {},
   "source": [
    "## regular expressions\n",
    "\n",
    "use the **re library** and its functions\n",
    "`re.search`, `re.findall`,  `re.sub`, `re.split` etc.  \n",
    "recall regular expression\n",
    "[syntax](notes0922.html#regular-expressions-regexp)\n",
    "\n",
    "- `r''` to write the regular expression pattern, for \"raw\" strings:\n",
    "  to read a \\n as slash and an n, not as a newline character.\n",
    "- multipliers are greedy by default: `*`, `+`, `?`. Add `?` to make them non-greedy\n",
    "- info from match objects: `.group`, `.start`,  `.end`  \n",
    "  when pattern not found: match object is `None`: False when converted to a boolean"
   ]
  },
  {
   "cell_type": "code",
   "execution_count": 15,
   "metadata": {},
   "outputs": [
    {
     "name": "stdout",
     "output_type": "stream",
     "text": [
      "['inflammation-01.csv', 'inflammation-02.csv', 'inflammation-03.csv', 'inflammation-04.csv', 'inflammation-05.csv', 'inflammation-06.csv', 'inflammation-07.csv', 'inflammation-08.csv', 'inflammation-09.csv', 'inflammation-10.csv', 'inflammation-11.csv', 'inflammation-12.csv', 'small-01.csv', 'small-02.csv', 'small-03.csv']\n",
      "<re.Match object; span=(0, 12), match='inflammation'>\n",
      "inflammation\n",
      "0\n",
      "12\n",
      "<re.Match object; span=(0, 2), match='in'>\n",
      "in\n",
      "0\n",
      "2\n"
     ]
    }
   ],
   "source": [
    "import glob\n",
    "filenames = glob.glob('*.csv')\n",
    "print(filenames)\n",
    "\n",
    "import re\n",
    "mo = re.search(r'i.*n',filenames[0]) # multiplier * is greedy\n",
    "print(mo)  # match object, stores much info. search: first instance only.\n",
    "print(mo.group()) # what matched\n",
    "print(mo.start()) # where match starts: indexing start at 0\n",
    "print(mo.end())   # where it ends: index *after*!\n",
    "\n",
    "mo = re.search(r'i.*?n',filenames[0])\n",
    "print(mo)\n",
    "print(mo.group())\n",
    "print(mo.start())\n",
    "print(mo.end())"
   ]
  },
  {
   "cell_type": "markdown",
   "metadata": {},
   "source": [
    "When there is no match, the matched object is None and interpreted as False in boolean context:"
   ]
  },
  {
   "cell_type": "code",
   "execution_count": 16,
   "metadata": {},
   "outputs": [
    {
     "name": "stdout",
     "output_type": "stream",
     "text": [
      "non-ACGT found in sequence ACGGCCAGUGUACN : found U\n"
     ]
    }
   ],
   "source": [
    "sequences = [\"ATCGGGGATCGAAGTTGAG\", \"ACGGCCAGUGUACN\"]\n",
    "for dna in sequences:\n",
    "    mo = re.search(r'[^ATCG]', dna)\n",
    "    if mo:\n",
    "        print(\"non-ACGT found in sequence\",dna,\": found\", mo.group())"
   ]
  },
  {
   "cell_type": "markdown",
   "metadata": {},
   "source": [
    "by the way, compare with the less efficient code:"
   ]
  },
  {
   "cell_type": "code",
   "execution_count": 17,
   "metadata": {},
   "outputs": [
    {
     "name": "stdout",
     "output_type": "stream",
     "text": [
      "non-ACGT found in sequence ACGGCCAGUGUACN : found U\n"
     ]
    }
   ],
   "source": [
    "for dna in sequences:\n",
    "    if re.search(r'[^ATCG]', dna):\n",
    "        mo = re.search(r'[^ATCG]', dna)\n",
    "        print(\"non-ACGT found in sequence\",dna,\": found\", mo.group())"
   ]
  },
  {
   "cell_type": "markdown",
   "metadata": {},
   "source": [
    "finding all instances:"
   ]
  },
  {
   "cell_type": "code",
   "execution_count": 18,
   "metadata": {},
   "outputs": [
    {
     "name": "stdout",
     "output_type": "stream",
     "text": [
      "['inflammation']\n",
      "['in', 'ion']\n"
     ]
    },
    {
     "data": {
      "text/plain": [
       "['in', 'ion']"
      ]
     },
     "execution_count": 18,
     "metadata": {},
     "output_type": "execute_result"
    }
   ],
   "source": [
    "print(re.findall(r'i.*n',filenames[0])) # greedy. non-overlapping matches\n",
    "mo = re.findall(r'i.*?n',filenames[0])  # non-greedy\n",
    "print(mo)\n",
    "mo"
   ]
  },
  {
   "cell_type": "code",
   "execution_count": 19,
   "metadata": {},
   "outputs": [
    {
     "name": "stdout",
     "output_type": "stream",
     "text": [
      "file name small-01.csv does not start with i\n",
      "file name small-02.csv does not start with i\n",
      "file name small-03.csv does not start with i\n"
     ]
    }
   ],
   "source": [
    "for f in filenames:\n",
    "    if not re.search(r'^i', f): # if no match: search object interpreted as False\n",
    "        print(\"file name\",f,\"does not start with i\")"
   ]
  },
  {
   "cell_type": "markdown",
   "metadata": {},
   "source": [
    "## search and replace: `re.sub`\n",
    "\n",
    "- capture with parentheses in the regular expression  \n",
    "- captured elements in `.group(1)`, `.group(2)` etc. in the match object\n",
    "- recall captured elements with `\\1`, `\\2` etc. in a regular expression,\n",
    "  to use them in a replacement for example"
   ]
  },
  {
   "cell_type": "code",
   "execution_count": 20,
   "metadata": {},
   "outputs": [
    {
     "data": {
      "text/plain": [
       "'i01.csv'"
      ]
     },
     "execution_count": 20,
     "metadata": {},
     "output_type": "execute_result"
    }
   ],
   "source": [
    "re.sub(r'^(\\w)\\w+-(\\d+)\\.csv', r'\\1\\2.csv', filenames[0])"
   ]
  },
  {
   "cell_type": "code",
   "execution_count": 21,
   "metadata": {},
   "outputs": [
    {
     "name": "stdout",
     "output_type": "stream",
     "text": [
      "['i01.csv', 'i02.csv', 'i03.csv', 'i04.csv', 'i05.csv', 'i06.csv', 'i07.csv', 'i08.csv', 'i09.csv', 'i10.csv', 'i11.csv', 'i12.csv', 's01.csv', 's02.csv', 's03.csv']\n"
     ]
    }
   ],
   "source": [
    "for i in range(0,len(filenames)):\n",
    "    filenames[i] = re.sub(r'^(\\w)\\w+-(\\d+)\\.csv', r'\\1\\2.csv', filenames[i])\n",
    "print(filenames)"
   ]
  },
  {
   "cell_type": "code",
   "execution_count": 22,
   "metadata": {},
   "outputs": [
    {
     "name": "stdout",
     "output_type": "stream",
     "text": [
      "genus=Drosophila, species=melanogaster\n",
      "genus=Homo, species=sapiens\n",
      "Homo sapiens\n",
      "<re.Match object; span=(0, 12), match='Homo sapiens'>\n",
      "0\n",
      "5\n"
     ]
    }
   ],
   "source": [
    "taxa = [\"Drosophila melanogaster\", \"Homo sapiens\"]\n",
    "for taxon in taxa:\n",
    "    mo = re.search(r'^([^\\s]+) ([^\\s]+)$', taxon)\n",
    "    if mo:\n",
    "        genus = mo.group(1)\n",
    "        species = mo.group(2)\n",
    "        print(\"genus=\" + genus + \", species=\" + species)\n",
    "\n",
    "print(taxon)\n",
    "print(mo) # variables defined inside \"for\" are available outside\n",
    "print(mo.start(1))\n",
    "print(mo.start(2))"
   ]
  },
  {
   "cell_type": "markdown",
   "metadata": {},
   "source": [
    "next: abbreviate genus name to its first letter, and replace space by underscore:"
   ]
  },
  {
   "cell_type": "code",
   "execution_count": 24,
   "metadata": {},
   "outputs": [
    {
     "name": "stdout",
     "output_type": "stream",
     "text": [
      "['D_melanogaster', 'H_sapiens']\n"
     ]
    }
   ],
   "source": [
    "taxa_abbrev = []\n",
    "for taxon in taxa:\n",
    "    taxa_abbrev.append(\n",
    "        re.sub(r'^(\\S).* ([^\\s]+)$', r'\\1_\\2', taxon)\n",
    "    )\n",
    "print(taxa_abbrev)"
   ]
  },
  {
   "cell_type": "markdown",
   "metadata": {},
   "source": [
    "## split according to a regular expression\n",
    "\n",
    "- removes the matched substrings\n",
    "- returns an array"
   ]
  },
  {
   "cell_type": "code",
   "execution_count": 25,
   "metadata": {},
   "outputs": [
    {
     "data": {
      "text/plain": [
       "['Homo ', 'ien', 'retty ', 'er']"
      ]
     },
     "execution_count": 25,
     "metadata": {},
     "output_type": "execute_result"
    }
   ],
   "source": [
    "coolstring = \"Homo sapiens is pretty super\"\n",
    "re.split(r's.p', coolstring)\n",
    "re.split(r's.*p', coolstring)\n",
    "re.split(r's.*?p', coolstring)"
   ]
  },
  {
   "cell_type": "markdown",
   "metadata": {},
   "source": []
  },
  {
   "cell_type": "code",
   "execution_count": null,
   "metadata": {},
   "outputs": [],
   "source": []
  }
 ],
 "metadata": {
  "kernelspec": {
   "display_name": "Python 3",
   "language": "python",
   "name": "python3"
  },
  "language_info": {
   "codemirror_mode": {
    "name": "ipython",
    "version": 3
   },
   "file_extension": ".py",
   "mimetype": "text/x-python",
   "name": "python",
   "nbconvert_exporter": "python",
   "pygments_lexer": "ipython3",
   "version": "3.7.0"
  }
 },
 "nbformat": 4,
 "nbformat_minor": 2
}
