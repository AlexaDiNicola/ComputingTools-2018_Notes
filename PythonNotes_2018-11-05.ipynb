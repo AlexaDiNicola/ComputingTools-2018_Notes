{
 "cells": [
  {
   "cell_type": "code",
   "execution_count": 8,
   "metadata": {},
   "outputs": [],
   "source": [
    "import os\n",
    "os.getcwd()\n",
    "#os.chdir(os.getcwd() + \"/data\")\n",
    "os.chdir(\"/Users/Alexa/Desktop/swc-python/data\")"
   ]
  },
  {
   "cell_type": "markdown",
   "metadata": {},
   "source": [
    "-----\n",
    "\n",
    "\n",
    "# 7 November 2018\n",
    "\n",
    "- [read from / write to files](#working-with-files)\n",
    "- [file manipulations](#file-manipulations): to create, list, remove files etc.\n",
    "- [break and continue](#break-and-continue): to control flow in loops\n",
    "\n",
    "## working with files\n",
    "\n",
    "If youre using `numpy` to read data, you don't often end up using these low-level commands... but if your data isn't already nice and tabulated for `numpy`, you'll need these.\n",
    "\n",
    "- disk file vs. file object (file handle): The handle lets you manipulate the file without necessarily opening it in memory.\n",
    "- 3 modes to open a file: `r` (read), `w` (write), `a` (append)"
   ]
  },
  {
   "cell_type": "code",
   "execution_count": 7,
   "metadata": {},
   "outputs": [],
   "source": [
    "fh = open(\"newfile\", 'w') # creates file handle. This value isn't a file, it's a file *handle*.\n",
    "try: # A \"try\" statement lets you risk errors without it necessarily quitting the program.\n",
    "     # It \"catches\" the error and \n",
    "    fh.write(\"hello world\\n\") # problem if disk quota full, etc.\n",
    "finally:\n",
    "    fh.close() # need to close to clean up, even if problems earlier"
   ]
  },
  {
   "cell_type": "markdown",
   "metadata": {},
   "source": [
    "We don't *like* using \"try\" and \"finally\" and \"close\" every darn time, so Python offers a shortcut: the `with`/`as` statement. This comes with the \"try\" and \"close\" built right in."
   ]
  },
  {
   "cell_type": "code",
   "execution_count": null,
   "metadata": {},
   "outputs": [],
   "source": [
    "with open(\"newfile\", 'w') as fh: # i.e. take results of the \"with\" part and save as \"fh\".\n",
    "    fh.write(\"hello world\\n\")    # It's all in a `try` block too.\n",
    "\n",
    "# fh is closed now"
   ]
  },
  {
   "cell_type": "markdown",
   "metadata": {},
   "source": [
    "methods for file handles:\n",
    "* `.write()`: write a string\n",
    "* `.writelines()` (if it's an array)\n",
    "* `read()`: read one character\n",
    "* `.readline()`: read everything til the next \\n. Each time you call this, it reads the *next* line.\n",
    "* `.readlines()`: read everything at once"
   ]
  },
  {
   "cell_type": "markdown",
   "metadata": {},
   "source": [
    "example: read fasta protein files from bds data (chapter 3)\n",
    "\n",
    "- treat sequence names differently (lines starting with \">\")\n",
    "- concatenate lines that are for the same sequence\n",
    "- output file with protein from all fasta files, with new format: 1 sequence = 1 line, with species name preceding the sequence itself"
   ]
  },
  {
   "cell_type": "code",
   "execution_count": null,
   "metadata": {},
   "outputs": [],
   "source": [
    "with open(\"tb1-protein.fasta\",\"r\") as fh:\n",
    "  for line in fh:\n",
    "    print(\"line=\", line, sep=\"\", end=\"\")"
   ]
  },
  {
   "cell_type": "markdown",
   "metadata": {},
   "source": [
    "Note that you can iterate over a file handle, like we have over lists: each element is a line of the file.\n",
    "\n",
    "The above is equivalent to:"
   ]
  },
  {
   "cell_type": "code",
   "execution_count": null,
   "metadata": {},
   "outputs": [],
   "source": [
    "with open(\"tb1-protein.fasta\",\"r\") as fh:\n",
    "  linelist = fh.readlines()\n",
    "  for line in linelist:\n",
    "    print(\"line=\", line, sep=\"\", end=\"\")\n",
    "\n",
    "with open(\"tb1-protein.fasta\",\"r\") as fh:\n",
    "  line = fh.readline() # header line only\n",
    "  print(\"line=\", line, sep=\"\", end=\"\")\n",
    "  dna = \"\"\n",
    "  while line: # will be false at the end of file: ''\n",
    "    line = fh.readline()\n",
    "    print(\"line=\", line, sep=\"\", end=\"\")\n",
    "    dna += line.strip() # Remember, .strip() pulls off whitespace at either end of a string.\n",
    "\n",
    "print(\"dna=\", dna, sep=\"\", end=\"\")"
   ]
  },
  {
   "cell_type": "markdown",
   "metadata": {},
   "source": [
    "Let's take the working code we've figured out above, and put it in a function for later use:"
   ]
  },
  {
   "cell_type": "code",
   "execution_count": null,
   "metadata": {},
   "outputs": [],
   "source": [
    "def reformat_onefile(fin, fout):\n",
    "  \"\"\"assumes fin not open, fout already open for writing.\"\"\"\n",
    "  with open(fin,\"r\") as fh:\n",
    "    for line in fh:\n",
    "      line = line.strip()\n",
    "      if not line:\n",
    "        continue # skip the rest if empty line\n",
    "      if line.startswith(\">\"): # header line\n",
    "        fout.write(line)\n",
    "        fout.write(\"\\n\") # after header\n",
    "      else:              # dna sequence line\n",
    "        fout.write(line)\n",
    "  fout.write(\"\\n\") # after end of full sequence\n",
    "\n",
    "import sys\n",
    "reformat_onefile(\"tb1-protein.fasta\", sys.stdout) # check function\n",
    "\n",
    "import glob\n",
    "filenames = glob.glob(\"*-protein.fasta\")\n",
    "with open(\"all1linesequences.fasta\", \"w\") as outfile:\n",
    "  for fname in filenames:\n",
    "    print(\"next: will reformat\",fname)\n",
    "    reformat_onefile(fname, outfile)"
   ]
  },
  {
   "cell_type": "markdown",
   "metadata": {},
   "source": [
    "note: `sys.stdout` is a file handle open for writing :)\n",
    "\n",
    "## file manipulations\n",
    "\n",
    "- in module `os`: `listdir`, `mkdir`, `makedirs`, `rename`, `remove`, `rmdir`,\n",
    "  `chdir`, `path.exists`, `path.isdir`, `path.isfile`\n",
    "- in module `shutil`: `copy`, `copytree`, `rmtree`"
   ]
  },
  {
   "cell_type": "code",
   "execution_count": null,
   "metadata": {},
   "outputs": [],
   "source": [
    "import os\n",
    "os.listdir()\n",
    "os.remove(\".DS_Store\")\n",
    "os.mkdir(\"try1\")\n",
    "os.rmdir(\"try1\")\n",
    "os.makedirs(\"try/data/dna\")\n",
    "os.listdir(\"try\")\n",
    "os.chdir(\"try\")\n",
    "os.path.isdir(\"data/dna\")\n",
    "os.path.realpath(\"data/dna\") # absolute path\n",
    "os.path.isfile(\"data/dna/gene1.fa\")\n",
    "shutil.copy(\"../lizard/cten_16s.fasta?sequence=1\", \"data/dna/cten_16s.fa\")\n",
    "shutil.copy(\"../lizard/cten_16s.fasta?sequence=1\", \"data/dna\")\n",
    "os.system(\"touch readme.md\")"
   ]
  },
  {
   "cell_type": "markdown",
   "metadata": {},
   "source": [
    "## break and continue\n",
    "\n",
    "extremely useful!\n",
    "`break` to break out of a loop:"
   ]
  },
  {
   "cell_type": "code",
   "execution_count": 5,
   "metadata": {},
   "outputs": [
    {
     "name": "stdout",
     "output_type": "stream",
     "text": [
      "code for i = 1 here\n",
      "code for i = 2 here\n",
      "code for i = 3 here\n",
      "code for i = 4 here\n"
     ]
    },
    {
     "data": {
      "text/plain": [
       "4"
      ]
     },
     "execution_count": 5,
     "metadata": {},
     "output_type": "execute_result"
    }
   ],
   "source": [
    "i=0\n",
    "while True:\n",
    "  i += 1\n",
    "  print(\"code for i =\",i,\"here\")\n",
    "  if i >= 4:\n",
    "    break\n",
    "i # 4"
   ]
  },
  {
   "cell_type": "markdown",
   "metadata": {},
   "source": [
    "`continue` to *directly* continue to the next iteration of the loop,\n",
    "*bypassing* all remaining code for the current iteration:"
   ]
  },
  {
   "cell_type": "code",
   "execution_count": 6,
   "metadata": {},
   "outputs": [
    {
     "name": "stdout",
     "output_type": "stream",
     "text": [
      "code here not bypassed, i = 0\n",
      "code here not bypassed, i = 1\n",
      "code here not bypassed, i = 2\n",
      "code here not bypassed, i = 4\n"
     ]
    },
    {
     "data": {
      "text/plain": [
       "9999"
      ]
     },
     "execution_count": 6,
     "metadata": {},
     "output_type": "execute_result"
    }
   ],
   "source": [
    "for i in range(0,10000):\n",
    "  if i==3 or i >= 5:\n",
    "    continue\n",
    "  print(\"code here not bypassed, i =\", i)\n",
    "i # 9999"
   ]
  },
  {
   "cell_type": "markdown",
   "metadata": {},
   "source": [
    "also: `pass` to do nothing, useful for new not-ready code: a function\n",
    "must have at least 1 line."
   ]
  },
  {
   "cell_type": "code",
   "execution_count": null,
   "metadata": {},
   "outputs": [],
   "source": []
  }
 ],
 "metadata": {
  "kernelspec": {
   "display_name": "Python 3",
   "language": "python",
   "name": "python3"
  },
  "language_info": {
   "codemirror_mode": {
    "name": "ipython",
    "version": 3
   },
   "file_extension": ".py",
   "mimetype": "text/x-python",
   "name": "python",
   "nbconvert_exporter": "python",
   "pygments_lexer": "ipython3",
   "version": "3.7.0"
  }
 },
 "nbformat": 4,
 "nbformat_minor": 2
}
