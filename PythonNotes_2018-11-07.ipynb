{
 "cells": [
  {
   "cell_type": "code",
   "execution_count": 4,
   "metadata": {},
   "outputs": [],
   "source": [
    "import os\n",
    "os.getcwd()\n",
    "#os.chdir(os.getcwd() + \"/data\")\n",
    "os.chdir(\"/Users/Alexa/Desktop/swc-python/data\")"
   ]
  },
  {
   "cell_type": "markdown",
   "metadata": {},
   "source": [
    "-----\n",
    "\n",
    "\n",
    "# 5 November 2018\n",
    "\n",
    "- [dictionaries](#dictionaries-hashes)\n",
    "- more on [list comprehension](#more-on-list-comprehension)\n",
    "- run [external program](#running-external-programs) from within python\n",
    "- about [characters](#about-characters)"
   ]
  },
  {
   "cell_type": "markdown",
   "metadata": {},
   "source": [
    "## dictionaries (hashes)\n",
    "\n",
    "dictionaries are similar to lists, except that items not *unordered*.  \n",
    "**items**: **key**-**value** pairs, where keys must be strings or numbers\n",
    "(or of immutable types)  \n",
    "like word-definition pairs in a dictionary.\n",
    "\n",
    "examples:"
   ]
  },
  {
   "cell_type": "code",
   "execution_count": null,
   "metadata": {},
   "outputs": [],
   "source": [
    "h = {\"blue\":10, \"green\":20}\n",
    "h # may be printed in different order\n",
    "h = {}\n",
    "h[\"blue\"]=10 # it's weird that we use [] here and not {}, but not my choice\n",
    "h[\"green\"]=20\n",
    "h\n",
    "del h[\"green\"] # deletes element (binding)\n",
    "h\n",
    "h.pop[\"blue\"] # deletes, but returns value\n",
    "h"
   ]
  },
  {
   "cell_type": "markdown",
   "metadata": {},
   "source": [
    "<!--\n",
    "import random\n",
    "dna = \"\"\n",
    "for i in range(20):\n",
    "  dna += random.choice([\"A\",\"C\",\"G\",\"T\"])\n",
    "-->\n",
    "\n",
    "example:\n",
    "\n",
    "- count the number of occurrences of k-mers (words of length k) in a string\n",
    "- do not create entries for a k-mer if it does not occur\n",
    "- here: use k=2"
   ]
  },
  {
   "cell_type": "code",
   "execution_count": null,
   "metadata": {},
   "outputs": [],
   "source": [
    "dna = \"TCAATAGGTGGTCGTTGTTT\"\n",
    "k2mer = {} # variable names cannot start with a digit\n",
    "bases = [\"A\",\"C\",\"G\",\"T\"]\n",
    "for nuc1 in bases:\n",
    "  for nuc2 in bases:\n",
    "    mycount = dna.count(nuc1+nuc2)\n",
    "    if mycount:\n",
    "      k2mer[nuc1+nuc2] = mycount\n",
    "\n",
    "k2mer\n",
    "k2mer[\"TT\"]\n",
    "k2mer[\"GC\"] # key error\n",
    "k2mer.get(\"TT\")\n",
    "k2mer.get(\"GC\") # None\n",
    "k2mer.get(\"GC\", 0) # default to 0 if key not found\n",
    "for nuc1 in bases:\n",
    "  for nuc2 in bases:\n",
    "    print(\"count for \" + nuc1 + nuc2 + \":\", k2mer.get(nuc1+nuc2, 0))\n",
    "\n",
    "for dinucleotide in k2mer:\n",
    "  print(\"count for \" + dinucleotide + \":\", k2mer[dinucleotide])\n",
    "\n",
    "for k,v in k2mer.items(): # k,v for key,value. (k,v) is a tuple\n",
    "  print(\"count for \" + k + \":\", v)\n",
    "\n",
    "for dinuc in sorted(k2mer.keys()): # k,v for key,value\n",
    "  print(\"count for \" + dinuc + \":\", k2mer[dinuc])\n",
    "\n",
    "for dinuc in k2mer:\n",
    "  if k2mer[dinuc] == 2:\n",
    "    print(dinuc, \"appears twice\")"
   ]
  },
  {
   "cell_type": "markdown",
   "metadata": {},
   "source": [
    "note: why sometimes called \"hash\"?  \n",
    "efficient implementations map keys to unique integers using a hash function,\n",
    "then can use an array with these integers.\n",
    "\n",
    "## more on list comprehension\n",
    "\n",
    "concise notation, usually easy to read (for a human)\n",
    "\n",
    "```python\n",
    "[xxx for y in z]\n",
    "[xxx for y in z if uuu]\n",
    "```\n",
    "\n",
    "where `z` is a list, dictionary, \"range\" or other iterable;\n",
    "`xxx` and `uuu` typically depend on `y`. "
   ]
  },
  {
   "cell_type": "code",
   "execution_count": 13,
   "metadata": {},
   "outputs": [
    {
     "data": {
      "text/plain": [
       "[18, 1, 2]"
      ]
     },
     "execution_count": 13,
     "metadata": {},
     "output_type": "execute_result"
    }
   ],
   "source": [
    "paramvalues = [10 ** i for i in range(-3,2)] # from \"range\" object\n",
    "[v**2 for v in paramvalues if v >= 0.1] # from list, with condition\n",
    "h = {'xtolrel':0.01, 'xtolabs':0.001, 'Nfail':50} # h for hash\n",
    "h # note (possibly) different order\n",
    "\n",
    "[h[k]*2 for k in h] # k for key.\n",
    "[h[k]*2 for k in h if k.startswith(\"xtol\")] # with condition\n",
    "[[k, v*2] for k,v in h.items()] # k for key, v for value. returns a list\n",
    "\n",
    "# extract a subset of values\n",
    "x = [18, 1, 54, 0, 2, 72]\n",
    "wanted = [True, True, False, False, True, False]\n",
    "[x[i] for i in range(len(x)) if wanted[i]]"
   ]
  },
  {
   "cell_type": "markdown",
   "metadata": {},
   "source": [
    "works to creates dictionaries or sets too:"
   ]
  },
  {
   "cell_type": "code",
   "execution_count": 14,
   "metadata": {
    "scrolled": true
   },
   "outputs": [
    {
     "name": "stdout",
     "output_type": "stream",
     "text": [
      "{'xtolrel': 0.02, 'xtolabs': 0.002, 'Nfail': 100}\n",
      "{'xtolrel': 0.02, 'xtolabs': 0.002, 'Nfail': 100}\n",
      "{'Nfail', 'xtolabs', 'xtolrel'}\n",
      "{'Nfail', 'xtolabs', 'xtolrel'}\n",
      "{'Nfail', 'xtolabs', 'xtolrel'}\n"
     ]
    },
    {
     "data": {
      "text/plain": [
       "{'xtolabs', 'xtolrel'}"
      ]
     },
     "execution_count": 14,
     "metadata": {},
     "output_type": "execute_result"
    }
   ],
   "source": [
    "import re\n",
    "print( dict( [[k, v*2] for k,v in h.items()] ) )\n",
    "print( { k:v*2 for k,v in h.items() } ) # same result\n",
    "print( { k for k,v in h.items() } ) # set: like a dict but keys only, no values\n",
    "print( { k for k in h } ) # same as above\n",
    "print( set(h.keys()) )    # same result\n",
    "{ k for k in h if re.search(r'tol',k)}"
   ]
  },
  {
   "cell_type": "markdown",
   "metadata": {},
   "source": [
    "nested for loops in list comprehension:"
   ]
  },
  {
   "cell_type": "code",
   "execution_count": 16,
   "metadata": {
    "scrolled": true
   },
   "outputs": [
    {
     "data": {
      "text/plain": [
       "[0.001, 0.002, 0.01, 0.02, 0.1, 0.2, 1, 2, 10, 20]"
      ]
     },
     "execution_count": 16,
     "metadata": {},
     "output_type": "execute_result"
    }
   ],
   "source": [
    "paramvalues = [a * (10 ** i) for i in range(-3,2) for a in [1,2]]\n",
    "paramvalues"
   ]
  },
  {
   "cell_type": "markdown",
   "metadata": {},
   "source": [
    "## running external programs\n",
    "\n",
    "module `subprocess`: more portable than `os.system()`.\n",
    "<!--\n",
    "they recommend .run method\n",
    "[here](https://docs.python.org/3/library/subprocess.html#subprocess.run)\n",
    "-->"
   ]
  },
  {
   "cell_type": "code",
   "execution_count": null,
   "metadata": {},
   "outputs": [],
   "source": [
    "import subprocess\n",
    "\n",
    "subprocess.call(\"date -u\", shell=True) # return exist status: 0 if good"
   ]
  },
  {
   "cell_type": "markdown",
   "metadata": {},
   "source": [
    "to capture the output within python as a string:"
   ]
  },
  {
   "cell_type": "code",
   "execution_count": null,
   "metadata": {},
   "outputs": [],
   "source": [
    "subprocess.check_output(\"date\") # The \"b\" in the output means it's a byte-string\n",
    "res = subprocess.check_output([\"date\", \"+%B\"]) # Similar to subprocess.call(), but with an error check first\n",
    "res\n",
    "res.decode(\"utf-8\")\n",
    "res = subprocess.check_output(\"ps -u ane | grep jupyter\", shell=True) # Yes, this means you can run shell scripts from within Python.\n",
    "res\n",
    "print(res.decode(\"utf-8\"))"
   ]
  },
  {
   "cell_type": "markdown",
   "metadata": {},
   "source": [
    "better, e.g. to capture standard output and standard error separately:"
   ]
  },
  {
   "cell_type": "code",
   "execution_count": 2,
   "metadata": {
    "collapsed": true
   },
   "outputs": [
    {
     "ename": "NameError",
     "evalue": "name 'subprocess' is not defined",
     "output_type": "error",
     "traceback": [
      "\u001b[0;31m---------------------------------------------------------------------------\u001b[0m",
      "\u001b[0;31mNameError\u001b[0m                                 Traceback (most recent call last)",
      "\u001b[0;32m<ipython-input-2-499c756850ac>\u001b[0m in \u001b[0;36m<module>\u001b[0;34m()\u001b[0m\n\u001b[0;32m----> 1\u001b[0;31m \u001b[0mprint\u001b[0m\u001b[0;34m(\u001b[0m\u001b[0msubprocess\u001b[0m\u001b[0;34m.\u001b[0m\u001b[0mrun\u001b[0m\u001b[0;34m(\u001b[0m\u001b[0;34m\"/bin/date\"\u001b[0m\u001b[0;34m)\u001b[0m\u001b[0;34m)\u001b[0m \u001b[0;31m# does not capture output\u001b[0m\u001b[0;34m\u001b[0m\u001b[0m\n\u001b[0m\u001b[1;32m      2\u001b[0m \u001b[0mres\u001b[0m \u001b[0;34m=\u001b[0m \u001b[0msubprocess\u001b[0m\u001b[0;34m.\u001b[0m\u001b[0mrun\u001b[0m\u001b[0;34m(\u001b[0m\u001b[0;34m\"/bin/date +%B\"\u001b[0m\u001b[0;34m,\u001b[0m \u001b[0mshell\u001b[0m\u001b[0;34m=\u001b[0m\u001b[0;32mTrue\u001b[0m\u001b[0;34m,\u001b[0m \u001b[0mstdout\u001b[0m\u001b[0;34m=\u001b[0m\u001b[0msubprocess\u001b[0m\u001b[0;34m.\u001b[0m\u001b[0mPIPE\u001b[0m\u001b[0;34m)\u001b[0m\u001b[0;34m\u001b[0m\u001b[0m\n\u001b[1;32m      3\u001b[0m \u001b[0mres\u001b[0m \u001b[0;34m=\u001b[0m \u001b[0msubprocess\u001b[0m\u001b[0;34m.\u001b[0m\u001b[0mrun\u001b[0m\u001b[0;34m(\u001b[0m\u001b[0;34m[\u001b[0m\u001b[0;34m\"/bin/date\"\u001b[0m\u001b[0;34m,\u001b[0m \u001b[0;34m\"+%B\"\u001b[0m\u001b[0;34m]\u001b[0m\u001b[0;34m,\u001b[0m        \u001b[0mstdout\u001b[0m\u001b[0;34m=\u001b[0m\u001b[0msubprocess\u001b[0m\u001b[0;34m.\u001b[0m\u001b[0mPIPE\u001b[0m\u001b[0;34m)\u001b[0m\u001b[0;34m\u001b[0m\u001b[0m\n\u001b[1;32m      4\u001b[0m print(\"return code: \", res.returncode,\n\u001b[1;32m      5\u001b[0m       \u001b[0;34m\"\\nstdout: \"\u001b[0m\u001b[0;34m,\u001b[0m \u001b[0mres\u001b[0m\u001b[0;34m.\u001b[0m\u001b[0mstdout\u001b[0m\u001b[0;34m,\u001b[0m\u001b[0;34m\u001b[0m\u001b[0m\n",
      "\u001b[0;31mNameError\u001b[0m: name 'subprocess' is not defined"
     ]
    }
   ],
   "source": [
    "print(subprocess.run(\"/bin/date\")) # does not capture output\n",
    "res = subprocess.run(\"/bin/date +%B\", shell=True, stdout=subprocess.PIPE)\n",
    "res = subprocess.run([\"/bin/date\", \"+%B\"],        stdout=subprocess.PIPE)\n",
    "print(\"return code: \", res.returncode,\n",
    "      \"\\nstdout: \", res.stdout,\n",
    "      \"\\nstderr:\", res.stderr)"
   ]
  },
  {
   "cell_type": "markdown",
   "metadata": {},
   "source": [
    "### about characters\n",
    "\n",
    "Unicode: code that maps more than 120,000 characters to integers,\n",
    "which then need to be coded with 0/1 bits.\n",
    "UTF-8 encoding uses 1 byte for any ASCII character, but up to 4 bytes\n",
    "in general.\n",
    "\n",
    "byte strings: each character coded with 1 byte only (8 bits), i.e.\n",
    "as integer in 0-255. `ord(\"0\")` gives integer 48, `chr(48)` gives\n",
    "character '0', `ord(\"\\t\")` gives 9.\n",
    "Try `bstr = bytes(b\"01239abc\\n\")` then `bstr[8]`."
   ]
  },
  {
   "cell_type": "code",
   "execution_count": 25,
   "metadata": {},
   "outputs": [
    {
     "name": "stdout",
     "output_type": "stream",
     "text": [
      "b'\\xc3\\xa9'\n",
      "2\n",
      "195\n",
      "169\n"
     ]
    }
   ],
   "source": [
    "ord(\"é\") # unicode character number 233\n",
    "bytes(\"é\", encoding='utf-8')\n",
    "a = bytes(b'\\xc3\\xa9')     # b'\\xc3\\xa9'\n",
    "print(a)\n",
    "print(len(a)) # coded with 2 bytes using UTF8 encoding\n",
    "print(a[0])   # 195 = 12*16 + 3 > 128: not ASCII\n",
    "print(a[1])   # 169 = 10*16 + 9"
   ]
  },
  {
   "cell_type": "markdown",
   "metadata": {},
   "source": [
    "hexadecimal/hex: \"numbers\" in base 16=2<sup>4</sup>: to represent a \"nibble\"\n",
    "(4 bits, half a byte). 0-9, a-f\n",
    "(recall git commit SHAs, e.g \"bec2817eb21e17c49a355878de577a91b9c6c5b6\").  \n",
    "Try: `0x0`, `0x9`, `0xb`, `0xf`, `0x0f`, `0x2b` (2\\*16+11), `0xff` (15\\*16+15).  \n",
    "To write in base 2, use `0b` instead of `0x`, like `0b101011` (32+8+2+1).  \n",
    "To get the binary or hexadecimal representation: `bin(43)` or `hex(43)`."
   ]
  },
  {
   "cell_type": "code",
   "execution_count": null,
   "metadata": {},
   "outputs": [],
   "source": []
  }
 ],
 "metadata": {
  "kernelspec": {
   "display_name": "Python 3",
   "language": "python",
   "name": "python3"
  },
  "language_info": {
   "codemirror_mode": {
    "name": "ipython",
    "version": 3
   },
   "file_extension": ".py",
   "mimetype": "text/x-python",
   "name": "python",
   "nbconvert_exporter": "python",
   "pygments_lexer": "ipython3",
   "version": "3.7.0"
  }
 },
 "nbformat": 4,
 "nbformat_minor": 2
}
