{
 "cells": [
  {
   "cell_type": "markdown",
   "metadata": {},
   "source": [
    "object-oriented programming:\n",
    "\n",
    "- define new \"types\" of objects: classes\n",
    "- each object type has its own data *attributes* and *methods*.  \n",
    "- special method: `__init__` to create a new object of the class\n",
    "- `self`: name of new object\n",
    "- special method: `__str__` to convert an object into a string,\n",
    "  used to `print` the object\n",
    "\n",
    "<!--\n",
    "see Karl's\n",
    "[lecture](http://kbroman.org/Tools4RR/assets/lectures/13_python_withnotes.pdf)\n",
    "for a cool example\n",
    "-->\n",
    "\n",
    "example: class to code graphs, or trees (as in phylogeny), made of nodes and edges.\n",
    "\n",
    "- Tree class\n",
    "- Edge class\n",
    "\n",
    "## the Edge class\n",
    "\n",
    "Edge class attributes:\n",
    "\n",
    "- `parent`: index for parent node\n",
    "- `child`: index for child node\n",
    "\n",
    "Copy this to a new file, named `tree.py`:\n",
    "\n",
    "```python\n",
    "#!/usr/bin/env python\n",
    "\n",
    "class Edge:\n",
    "    \"\"\"Edge class, to contain a directed edge of a tree or directed graph.\n",
    "    attributes parent and child: index of parent and child node in the graph.\n",
    "    \"\"\"\n",
    "\n",
    "    def __init__ (self, parent, child, length=None):\n",
    "        \"\"\"create a new Edge object, linking nodes\n",
    "        with indices parent and child. \"Parent\" and \"Child\" are attributes.\"\"\"\n",
    "        print(\"starting __init__ for new Edge object/instance\")\n",
    "        self.parent = parent\n",
    "        self.child = child\n",
    "        self.length = length\n",
    "\n",
    "    def __str__(self):\n",
    "        res = \"edge from \" + str(self.parent) + \" to \" + str(self.child)\n",
    "        return res\n",
    "```\n",
    "\n",
    "let's use it, in a new python session:\n",
    "(if not in same directory, add the file's path to python's path:\n",
    "`import sys` then `sys.path.append(\"path/to/tree/dot/py/file\")`.)"
   ]
  },
  {
   "cell_type": "code",
   "execution_count": 6,
   "metadata": {},
   "outputs": [
    {
     "ename": "SyntaxError",
     "evalue": "unexpected EOF while parsing (tree.py, line 72)",
     "output_type": "error",
     "traceback": [
      "Traceback \u001b[0;36m(most recent call last)\u001b[0m:\n",
      "  File \u001b[1;32m\"/Users/Alexa/anaconda3/lib/python3.7/site-packages/IPython/core/interactiveshell.py\"\u001b[0m, line \u001b[1;32m2961\u001b[0m, in \u001b[1;35mrun_code\u001b[0m\n    exec(code_obj, self.user_global_ns, self.user_ns)\n",
      "\u001b[0;36m  File \u001b[0;32m\"<ipython-input-6-f89a0e029b43>\"\u001b[0;36m, line \u001b[0;32m1\u001b[0;36m, in \u001b[0;35m<module>\u001b[0;36m\u001b[0m\n\u001b[0;31m    import tree\u001b[0m\n",
      "\u001b[0;36m  File \u001b[0;32m\"/Users/Alexa/Documents/School/Stat679_ComputingToolsForDataAnalytics/ClassNotes/tree.py\"\u001b[0;36m, line \u001b[0;32m72\u001b[0m\n\u001b[0;31m    def root():\u001b[0m\n\u001b[0m               ^\u001b[0m\n\u001b[0;31mSyntaxError\u001b[0m\u001b[0;31m:\u001b[0m unexpected EOF while parsing\n"
     ]
    }
   ],
   "source": [
    "import tree\n",
    "e1 = tree.Edge(0,1)\n",
    "e2 = tree.Edge(0,2)\n",
    "e3 = tree.Edge(2,3)\n",
    "e4 = tree.Edge(2,4)\n",
    "e4\n",
    "print(e4)"
   ]
  },
  {
   "cell_type": "markdown",
   "metadata": {},
   "source": [
    "## the Tree class\n",
    "\n",
    "Tree class attributes:\n",
    "\n",
    "- `edge`: list of Edge objects\n",
    "- methods `add_edge()` to add an existing edge to the list,\n",
    "  `new_edge()` to create and add a new edge"
   ]
  },
  {
   "cell_type": "code",
   "execution_count": 4,
   "metadata": {},
   "outputs": [],
   "source": [
    "class Tree:\n",
    "    \"\"\" Tree, described by its list of edges.\"\"\"\n",
    "    def __init__(self, edgelist):\n",
    "        \"\"\"create a new Tree object from a list of existing Edges\"\"\"\n",
    "        self.edge = edgelist\n",
    "\n",
    "    def __str__(self):\n",
    "        res = \"parent -> child:\"\n",
    "        for e in self.edge:\n",
    "            res += \"\\n\" + str(e.parent) + \" \" + str(e.child)\n",
    "        return res\n",
    "\n",
    "    def add_edge(self, ed):\n",
    "        \"\"\"add an edge to the tree\"\"\"\n",
    "        self.edge.append(ed)\n",
    "\n",
    "    def new_edge(self, parent, child):\n",
    "        \"\"\"add to the tree a new edge from parent to child (node indices)\"\"\"\n",
    "        self.add_edge( Edge(parent,child) )"
   ]
  },
  {
   "cell_type": "markdown",
   "metadata": {},
   "source": [
    "after edits to `tree.py`, the class should be reloaded with:"
   ]
  },
  {
   "cell_type": "code",
   "execution_count": 5,
   "metadata": {
    "collapsed": true
   },
   "outputs": [
    {
     "ename": "NameError",
     "evalue": "name 'tree' is not defined",
     "output_type": "error",
     "traceback": [
      "\u001b[0;31m---------------------------------------------------------------------------\u001b[0m",
      "\u001b[0;31mNameError\u001b[0m                                 Traceback (most recent call last)",
      "\u001b[0;32m<ipython-input-5-d9266addf770>\u001b[0m in \u001b[0;36m<module>\u001b[0;34m()\u001b[0m\n\u001b[1;32m      1\u001b[0m \u001b[0;32mimport\u001b[0m \u001b[0mimportlib\u001b[0m\u001b[0;34m\u001b[0m\u001b[0m\n\u001b[0;32m----> 2\u001b[0;31m \u001b[0mimportlib\u001b[0m\u001b[0;34m.\u001b[0m\u001b[0mreload\u001b[0m\u001b[0;34m(\u001b[0m\u001b[0mtree\u001b[0m\u001b[0;34m)\u001b[0m\u001b[0;34m\u001b[0m\u001b[0m\n\u001b[0m\u001b[1;32m      3\u001b[0m \u001b[0mtre\u001b[0m \u001b[0;34m=\u001b[0m \u001b[0mtree\u001b[0m\u001b[0;34m.\u001b[0m\u001b[0mTree\u001b[0m\u001b[0;34m(\u001b[0m\u001b[0;34m[\u001b[0m\u001b[0me1\u001b[0m\u001b[0;34m,\u001b[0m\u001b[0me2\u001b[0m\u001b[0;34m]\u001b[0m\u001b[0;34m)\u001b[0m\u001b[0;34m\u001b[0m\u001b[0m\n\u001b[1;32m      4\u001b[0m \u001b[0mtre\u001b[0m\u001b[0;34m\u001b[0m\u001b[0m\n\u001b[1;32m      5\u001b[0m \u001b[0mprint\u001b[0m\u001b[0;34m(\u001b[0m\u001b[0mtre\u001b[0m\u001b[0;34m)\u001b[0m\u001b[0;34m\u001b[0m\u001b[0m\n",
      "\u001b[0;31mNameError\u001b[0m: name 'tree' is not defined"
     ]
    }
   ],
   "source": [
    "import importlib\n",
    "importlib.reload(tree)\n",
    "tre = tree.Tree([e1,e2])\n",
    "tre\n",
    "print(tre)\n",
    "tre.add_edge(e3)\n",
    "tre.new_edge(2,4)\n",
    "print(tre)"
   ]
  },
  {
   "cell_type": "markdown",
   "metadata": {},
   "source": [
    "example to create a tree without creating *named* edges:"
   ]
  },
  {
   "cell_type": "code",
   "execution_count": 9,
   "metadata": {},
   "outputs": [
    {
     "name": "stdout",
     "output_type": "stream",
     "text": [
      "starting __init__ for new Edge object/instance\n",
      "starting __init__ for new Edge object/instance\n",
      "starting __init__ for new Edge object/instance\n",
      "starting __init__ for new Edge object/instance\n",
      "parent -> child:\n",
      "0 1\n",
      "0 2\n",
      "2 3\n",
      "2 4\n"
     ]
    }
   ],
   "source": [
    "import tree\n",
    "tre = tree.Tree([])\n",
    "tre.new_edge(0,1); tre.new_edge(0,2)\n",
    "tre.new_edge(2,3); tre.new_edge(2,4)\n",
    "tre\n",
    "print(tre)"
   ]
  },
  {
   "cell_type": "markdown",
   "metadata": {},
   "source": [
    "## methods\n",
    "\n",
    "To make our class more useful, let's add new methods to it:\n",
    "\n",
    "- `get_dist2root(i)` to get the distance from the root to node i\n",
    "- to help get these distances: `update_node2edge()` to create (or update)\n",
    "  new attributes:\n",
    "  * `node2edge`: dictionary node index -> parent Edge object\n",
    "  * `root`: index of node that has no parent edge\n",
    "\n",
    "add this to your Tree class, and call it each time the tree is modified:"
   ]
  },
  {
   "cell_type": "code",
   "execution_count": null,
   "metadata": {},
   "outputs": [],
   "source": [
    "def update_node2edge(self):\n",
    "      \"\"\"dictionary child node index -> edge for fast access to edges.\n",
    "      also add/update root attribute.\"\"\"\n",
    "      self.node2edge = {e.child : e for e in self.edge}\n",
    "      childrenset = set(self.node2edge.keys())\n",
    "      rootset = set(e.parent for e in self.edge).difference(childrenset)\n",
    "      if len(rootset) > 1:\n",
    "          warn(\"there should be a single root: \" + str(rootset))\n",
    "      if len(rootset) == 0:\n",
    "          raise Exception(\"there should be at least one root!\")\n",
    "      self.root = rootset.pop()"
   ]
  },
  {
   "cell_type": "markdown",
   "metadata": {},
   "source": [
    "we used **sets** above: like dictionaries, but with keys only: no values.\n",
    "useful:\n",
    "\n",
    "- to check if one element is in the set, very fast even for big sets\n",
    "- to do set operations: here we got a set difference A \\ B:\n",
    "  elements in A that are not in B"
   ]
  },
  {
   "cell_type": "code",
   "execution_count": 7,
   "metadata": {},
   "outputs": [
    {
     "ename": "NameError",
     "evalue": "name 'tree' is not defined",
     "output_type": "error",
     "traceback": [
      "\u001b[0;31m---------------------------------------------------------------------------\u001b[0m",
      "\u001b[0;31mNameError\u001b[0m                                 Traceback (most recent call last)",
      "\u001b[0;32m<ipython-input-7-cf1d13dcedcf>\u001b[0m in \u001b[0;36m<module>\u001b[0;34m()\u001b[0m\n\u001b[1;32m      1\u001b[0m \u001b[0;32mimport\u001b[0m \u001b[0mimportlib\u001b[0m\u001b[0;34m\u001b[0m\u001b[0m\n\u001b[0;32m----> 2\u001b[0;31m \u001b[0mimportlib\u001b[0m\u001b[0;34m.\u001b[0m\u001b[0mreload\u001b[0m\u001b[0;34m(\u001b[0m\u001b[0mtree\u001b[0m\u001b[0;34m)\u001b[0m\u001b[0;34m\u001b[0m\u001b[0m\n\u001b[0m\u001b[1;32m      3\u001b[0m tre = tree.Tree([tree.Edge(0,1),tree.Edge(0,2),\n\u001b[1;32m      4\u001b[0m                  tree.Edge(2,3),tree.Edge(2,4)])\n\u001b[1;32m      5\u001b[0m \u001b[0mprint\u001b[0m\u001b[0;34m(\u001b[0m\u001b[0mtre\u001b[0m\u001b[0;34m)\u001b[0m\u001b[0;34m\u001b[0m\u001b[0m\n",
      "\u001b[0;31mNameError\u001b[0m: name 'tree' is not defined"
     ]
    }
   ],
   "source": [
    "import importlib\n",
    "importlib.reload(tree)\n",
    "tra = tree.Tree([tree.Edge(0,1),tree.Edge(0,2),\n",
    "                 tree.Edge(2,3),tree.Edge(2,4)])\n",
    "print(tre)\n",
    "tra.node2edge\n",
    "tra.root"
   ]
  },
  {
   "cell_type": "markdown",
   "metadata": {},
   "source": [
    "Examples with sets:"
   ]
  },
  {
   "cell_type": "code",
   "execution_count": 13,
   "metadata": {},
   "outputs": [
    {
     "name": "stdout",
     "output_type": "stream",
     "text": [
      "60 not in a, but 50 is in a\n"
     ]
    }
   ],
   "source": [
    "a = {1,50,100}\n",
    "if 60 in a:\n",
    "   print(\"60 is in a\")\n",
    "elif 50 in a:\n",
    "   print(\"60 not in a, but 50 is in a\")\n",
    "a.issubset({50,1})\n",
    "a.issuperset({50,1})\n",
    "a.union({2,75})  # a is still {1, 50, 100}\n",
    "a.update({2,75}) # a has changed"
   ]
  },
  {
   "cell_type": "markdown",
   "metadata": {},
   "source": [
    "class work: write new methods\n",
    "\n",
    "- `get_dist2root(i)` for the distance between the root and node i,\n",
    "- `get_path2root(i)` for the list of nodes between the root and i,\n",
    "- `get_MRCA(i,j)` to get the most recent common ancestor between nodes i and j\n",
    "- `get_nodedist(i,j)` to get the tree distance between nodes i and j\n",
    "\n",
    "and use them:"
   ]
  },
  {
   "cell_type": "code",
   "execution_count": null,
   "metadata": {},
   "outputs": [],
   "source": [
    "tra.get_dist2root(3)\n",
    "tra.get_path2root(3)\n",
    "tra.get_MRCA(3,1)\n",
    "tra.get_nodedist(3,1)"
   ]
  },
  {
   "cell_type": "markdown",
   "metadata": {},
   "source": [
    "## conventions\n",
    "\n",
    "- **class names are capitalized** (e.g. `Edge`, `Tree`)\n",
    "- **verbs** for methods, **nouns** for data attributes\n",
    "\n",
    "many things we might want to add:\n",
    "\n",
    "- add edge lengths to the Edge class,\n",
    "  use them to get distances in `get_nodedist()`\n",
    "- new attribute for Tree objects to hold leaf names\n",
    "- compare 2 trees, to see if they have the same topology:\n",
    "  if so, same distances between leaves\n",
    "- `Node` class, pointing to `Edge`s\n",
    "\n",
    "This example is meant to show how to use classes,\n",
    "*not* to show the best data structure for trees.\n",
    "\n",
    "<!--\n",
    "```python\n",
    "t1 = tree.Tree([tree.Edge(0,1),tree.Edge(0,2),tree.Edge(2,3),tree.Edge(2,4)])\n",
    "t2 = tree.Tree([tree.Edge(0,1),tree.Edge(0,2),tree.Edge(2,3),tree.Edge(2,4),\n",
    "                tree.Edge(1,5),tree.Edge(1,6)])\n",
    "```\n",
    "-->\n",
    "\n",
    "## module namespaces\n",
    "\n",
    "add this at the top of the file, to see which variable is used\n",
    "when a name appears multiple times:\n",
    "\n",
    "```python\n",
    "a = 5\n",
    "class Foo:\n",
    "    def __init__(self):\n",
    "        self.x = a\n",
    "class Bar:\n",
    "    a = 6 # will be object attribute: .a\n",
    "    b = [\"u\",\"v\"] # also .b, shared across all Bar objects\n",
    "    def __init__(self):\n",
    "        self.x = a\n",
    "```\n",
    "\n",
    "now let's use these classes:"
   ]
  },
  {
   "cell_type": "code",
   "execution_count": null,
   "metadata": {},
   "outputs": [],
   "source": [
    "import tree\n",
    "tree.a\n",
    "tree.b # unknown\n",
    "a # unknown\n",
    "\n",
    "foo = tree.Foo()\n",
    "foo.x\n",
    "\n",
    "bar = tree.Bar()\n",
    "bar.x\n",
    "bar.a\n",
    "bar.b\n",
    "\n",
    "tree.a = 7\n",
    "foo = tree.Foo()\n",
    "foo.x\n",
    "\n",
    "bar.a = 8\n",
    "bar.b[0] = \"uu\"\n",
    "\n",
    "bar2 = tree.Bar()\n",
    "bar2.a ## still 6, because it's a scalar and thus immutable\n",
    "bar2.x\n",
    "bar2.b ## mutable: shared across all Bar objects. Change it for one of them, you change it for all."
   ]
  },
  {
   "cell_type": "markdown",
   "metadata": {},
   "source": [
    "Which value of `a` is used? The one in the appropriate namespace. `tree.a` is 5 and `bar.a` is 6, because `a` has different values in the `tree` namespace and the `Bar` namespace.\n",
    "\n",
    "conclusion: beware, check your code on very simple examples like this if in doubt. Problems with variables across different namespace can be really hard to debug. Avoid using this kind of attributes, that hold for all objects in a class (like `bar.a`, `bar.b`): they're trouble."
   ]
  },
  {
   "cell_type": "code",
   "execution_count": null,
   "metadata": {},
   "outputs": [],
   "source": []
  }
 ],
 "metadata": {
  "kernelspec": {
   "display_name": "Python 3",
   "language": "python",
   "name": "python3"
  },
  "language_info": {
   "codemirror_mode": {
    "name": "ipython",
    "version": 3
   },
   "file_extension": ".py",
   "mimetype": "text/x-python",
   "name": "python",
   "nbconvert_exporter": "python",
   "pygments_lexer": "ipython3",
   "version": "3.7.0"
  }
 },
 "nbformat": 4,
 "nbformat_minor": 2
}
