{
 "cells": [
  {
   "cell_type": "markdown",
   "metadata": {},
   "source": [
    "## homework\n",
    "\n",
    "- due today: scripting project\n",
    "- install [julia](http://julialang.org) v0.5.0:\n",
    "  * click on \"downloads\" then choose the command-line version for your system\n",
    "  * On a Mac, I had to add the path to julia to my PATH shell variable,\n",
    "    in file  `~/.bash_profile`:\n",
    "\n",
    "    `export PATH=\"$PATH:/Users/ane/.julia/v0.5/Conda/deps/usr/bin\"`\n",
    "\n",
    "  * on Statistics servers: Julia is already installed in `/s/julia-0.5.0`.\n",
    "    Simply add its path to your PATH variable: add to your file `~/.bashrc.local`\n",
    "    this line:\n",
    "\n",
    "    `export PATH=\"$PATH:/s/julia-0.5.0/bin\"`\n",
    "\n",
    "  * open a terminal and type \"julia\" to check that it works, then type\n",
    "    `quit()` to close it.\n",
    "\n",
    "- in jupyter lab: check that Julia 0.5.0 is available as a kernel\n",
    "- in Atom: click on Packages, Setting View, Install Packages.\n",
    "  In the new window, type \"language-julia\", click \"Packages\", then \"Install\".\n",
    "  This \"language-julia\" package will highlight\n",
    "  julia syntax for files with extension `.jl`.\n",
    "\n",
    "\n",
    "jump to:\n",
    "\n",
    "- [types](#types)\n",
    "- [(im)mutable](#immutable-types) types\n",
    "- [modes](#modes)\n",
    "- [JIT](#just-in-time-jit-compiled) compiled: fast, type declaration not needed\n",
    "\n",
    "### types\n",
    "\n",
    "- `Bool`: `true` and `false`\n",
    "- `String` (double quotes) and `Char` (single quotes)\n",
    "- floating point numbers: `Float16`, `Float32`, `Float64`;\n",
    "  `Float` depends on the machine\n",
    "- integers: `Int8`, `Int16`, `Int32`, `Int64`, `Int128`;\n",
    "  `Int` depends on the machine\n",
    "- unsigned (positive) integers: `UInt8` etc.\n",
    "- arrays: somewhat like lists in Python\n",
    "- tuples: like in Python, e.g. `(3,)` or `(3,\"hohoho\")`\n",
    "- Vector (Matrix): shortcut for 1-dimensional (2-dimensional) array\n",
    "- dictionaries: `Dict`"
   ]
  },
  {
   "cell_type": "code",
   "execution_count": null,
   "metadata": {},
   "outputs": [],
   "source": [
    "typeof(3)\n",
    "Int\n",
    "typeof(3.0)\n",
    "typeof(\"hello\")\n",
    "a=[10,6,3,2] # Array{Int64,1}: 1-dimensional array, contains Int64 values\n",
    "a[1]\n",
    "push!(a,5)\n",
    "push!(a,5.0) # converted 5.0 to Int to maintain type of \"a\"\n",
    "push!(a,5.1) # error\n",
    "convert(Array{Float64,1}, a) # new object\n",
    "b = [1,6,3.0,2] # Array{Float64,1}: 1-dimensional, values converted to Float64\n",
    "push!(b,5.1) # no problem\n",
    "push!(b, \"hello\") # error\n",
    "splice!(b,2:3)\n",
    "b\n",
    "c = [\"hello\", 3, \"world\", 5.1] # Array{Any,1}: contains anything possible\n",
    "Vector{Int}\n",
    "UInt8(4)\n",
    "UInt8[8,9,10,11]\n",
    "d = [1 2 3; 6 7 8] # 2-dimensional array, 2*3. note syntax\n",
    "h = Dict(\"blue\"=>10, \"green\"=>20)"
   ]
  },
  {
   "cell_type": "markdown",
   "metadata": {},
   "source": [
    "julia is **1-indexed** (unlike Python, like R)  \n",
    "convention: functions with a bang `!` modify one or more of their arguments.\n",
    "Respect it!"
   ]
  },
  {
   "cell_type": "code",
   "execution_count": null,
   "metadata": {},
   "outputs": [],
   "source": [
    "b = [1,6,3,2]; # ; suppresses screen output\n",
    "sort(b)\n",
    "b\n",
    "sort!(b) # same return value\n",
    "b\n",
    "pop!(b) # no pop() function"
   ]
  },
  {
   "cell_type": "markdown",
   "metadata": {},
   "source": [
    "how to initialize arrays:"
   ]
  },
  {
   "cell_type": "code",
   "execution_count": null,
   "metadata": {},
   "outputs": [],
   "source": [
    "Vector(3)\n",
    "Vector{Int}(3)\n",
    "Array{Int}(3)    # uninitialized\n",
    "Array{Int8}(3,4) # 2-dimensional array: 3x4\n",
    "zeros(3) # Float by default\n",
    "ones(3)\n",
    "zeros(Int,3)\n",
    "zeros(Bool,3)"
   ]
  },
  {
   "cell_type": "markdown",
   "metadata": {},
   "source": [
    "see limits [here](https://docs.julialang.org/en/v1/manual/integers-and-floating-point-numbers/)\n",
    "and mind them, because potential errors otherwise:"
   ]
  },
  {
   "cell_type": "code",
   "execution_count": null,
   "metadata": {},
   "outputs": [],
   "source": [
    "x=2^63-1 # upper limit for Int64: 1 bit for sign and 63 bits of 1\n",
    "typemax(Int64)\n",
    "x*2      # wrong! overflow"
   ]
  },
  {
   "cell_type": "markdown",
   "metadata": {},
   "source": [
    "quasi-object-oriented: new types can be defined.  \n",
    "types have fields, but no methods: functions have multiple methods instead\n",
    "--more below.\n",
    "\n",
    "### (im)mutable types\n",
    "\n",
    "mutable: arrays, composite types (typically)  \n",
    "immutable: numbers, tuples, strings\n",
    "\n",
    "### modes\n",
    "\n",
    "- help mode: type \"?\" in the REPL.\n",
    "  goes back to julian mode right after,\n",
    "  or press backspace.\n",
    "- shell mode: type \";\".\n",
    "  goes back to julia mode right after (or press backspace)\n",
    "- package mode: type \"]\"; press backspace to go\n",
    "  back to julian mode\n",
    "- R mode (kinda): type \"$\", `using RCall` package.\n",
    "  backspace to go back to julia mode.\n",
    "\n",
    "many [key bindings](https://docs.julialang.org/en/v1/stdlib/REPL/#Key-bindings-1)\n",
    "e.g. arrows for history,\n",
    "start a command then arrows for historical commands\n",
    "starting the same way,\n",
    "`^D` to exit.\n",
    "\n",
    "### just-in-time (JIT) compiled\n",
    "\n",
    "<!-- example below from Steven Johnson's [video](https://www.youtube.com/watch?v=jhlVHoeB05A&list=PLYx7XA2nY5GfavGAILg08spnrR7QWLimi)\n",
    "of his talk at EuroSciPy 2014 (1h11)\n",
    "-->"
   ]
  },
  {
   "cell_type": "code",
   "execution_count": null,
   "metadata": {},
   "outputs": [],
   "source": [
    "function foo(x)\n",
    "  return x+1\n",
    "end\n",
    "\n",
    "foo(x) = x+1 # one-line form"
   ]
  },
  {
   "cell_type": "markdown",
   "metadata": {},
   "source": [
    "let's use this function on various inputs:"
   ]
  },
  {
   "cell_type": "code",
   "execution_count": null,
   "metadata": {},
   "outputs": [],
   "source": [
    "foo(3) # compiles foo for Int arguments\n",
    "foo(7) # re-use compiled foo(Int)\n",
    "foo(7.2) # compiles a different version for Float64 arguments\n",
    "foo([1,2,7,9]) # compiles 3rd version for Array{Int64,1}\n",
    "code_llvm(foo, (Int,)) # inspect generated code\n",
    "code_llvm(foo, (Float64,))\n",
    "code_llvm(foo, (Array{Int64,1},))\n",
    "code_native(foo, (Int,))\n",
    "code_native(foo, (Float64,))\n",
    "code_native(foo, (Array{Int64,1},))\n"
   ]
  },
  {
   "cell_type": "markdown",
   "metadata": {},
   "source": [
    "Julia uses the type of the arguments to infer which compiled version to run:\n",
    "multiple dispatch\n",
    "\n",
    "- makes it really [fast](https://julialang.org/benchmarks/)\n",
    "- rare need to declare input types:"
   ]
  },
  {
   "cell_type": "code",
   "execution_count": null,
   "metadata": {},
   "outputs": [],
   "source": [
    "function addone(x::Number)\n",
    "  return x+1\n",
    "end\n",
    "addone(3.5)\n",
    "addone([1 2; 6 7])"
   ]
  },
  {
   "cell_type": "markdown",
   "metadata": {},
   "source": [
    "better and no penalty because different\n",
    "compiled versions for different input types anyway:"
   ]
  },
  {
   "cell_type": "code",
   "execution_count": null,
   "metadata": {},
   "outputs": [],
   "source": [
    "function addone(x) # no type declaration\n",
    "  return x+one(1)  # + or one() will throw error is bad type\n",
    "end\n",
    "addone(3.5)\n",
    "addone([1 2; 6 7])"
   ]
  }
 ],
 "metadata": {
  "kernelspec": {
   "display_name": "Python 3",
   "language": "python",
   "name": "python3"
  },
  "language_info": {
   "codemirror_mode": {
    "name": "ipython",
    "version": 3
   },
   "file_extension": ".py",
   "mimetype": "text/x-python",
   "name": "python",
   "nbconvert_exporter": "python",
   "pygments_lexer": "ipython3",
   "version": "3.7.0"
  }
 },
 "nbformat": 4,
 "nbformat_minor": 2
}
